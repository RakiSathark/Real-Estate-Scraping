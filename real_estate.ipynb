{
 "cells": [
  {
   "cell_type": "markdown",
   "metadata": {
    "colab_type": "text",
    "id": "Lwrfj5-9anfQ"
   },
   "source": [
    "\n",
    "\n",
    "---\n",
    "\n",
    "\n",
    "# Real Estate Analysis\n",
    "\n",
    "\n",
    "---\n",
    "\n"
   ]
  },
  {
   "cell_type": "markdown",
   "metadata": {},
   "source": [
    "### Housing in Toronto"
   ]
  },
  {
   "cell_type": "markdown",
   "metadata": {},
   "source": [
    "Plot the house price trends along with specifications."
   ]
  },
  {
   "cell_type": "code",
   "execution_count": 1,
   "metadata": {},
   "outputs": [
    {
     "data": {
      "text/plain": [
       "(4822, 5)"
      ]
     },
     "execution_count": 1,
     "metadata": {},
     "output_type": "execute_result"
    }
   ],
   "source": [
    "import pandas as pd\n",
    "import seaborn as sns\n",
    "import matplotlib.pyplot as plt\n",
    "\n",
    "df = pd.read_csv(\"Toronto-Real-Estate-Listings-2021-05-28.csv\")\n",
    "df.shape"
   ]
  },
  {
   "cell_type": "code",
   "execution_count": 2,
   "metadata": {},
   "outputs": [
    {
     "data": {
      "text/html": [
       "<div>\n",
       "<style scoped>\n",
       "    .dataframe tbody tr th:only-of-type {\n",
       "        vertical-align: middle;\n",
       "    }\n",
       "\n",
       "    .dataframe tbody tr th {\n",
       "        vertical-align: top;\n",
       "    }\n",
       "\n",
       "    .dataframe thead th {\n",
       "        text-align: right;\n",
       "    }\n",
       "</style>\n",
       "<table border=\"1\" class=\"dataframe\">\n",
       "  <thead>\n",
       "    <tr style=\"text-align: right;\">\n",
       "      <th></th>\n",
       "      <th>Address</th>\n",
       "      <th>Price</th>\n",
       "      <th>Beds</th>\n",
       "      <th>Baths</th>\n",
       "      <th>Space</th>\n",
       "    </tr>\n",
       "  </thead>\n",
       "  <tbody>\n",
       "    <tr>\n",
       "      <th>0</th>\n",
       "      <td>26 Laidlaw St, Toronto, Ontario</td>\n",
       "      <td>$799,000 CAD</td>\n",
       "      <td>2 BedsBds</td>\n",
       "      <td>2 BathsBa</td>\n",
       "      <td>1,000 SqftSqft</td>\n",
       "    </tr>\n",
       "    <tr>\n",
       "      <th>1</th>\n",
       "      <td>Bayview at the Village - From Mid $400s - BAYV...</td>\n",
       "      <td>$695,000 CAD</td>\n",
       "      <td>NaN</td>\n",
       "      <td>NaN</td>\n",
       "      <td>NaN</td>\n",
       "    </tr>\n",
       "    <tr>\n",
       "      <th>2</th>\n",
       "      <td>5 Soudan Ave, Toronto, Ontario</td>\n",
       "      <td>$799,900 CAD</td>\n",
       "      <td>2 BedsBds</td>\n",
       "      <td>2 BathsBa</td>\n",
       "      <td>700 SqftSqft</td>\n",
       "    </tr>\n",
       "    <tr>\n",
       "      <th>3</th>\n",
       "      <td>500 Sherbourne St, Toronto, Ontario</td>\n",
       "      <td>$799,900 CAD</td>\n",
       "      <td>1 BedBd</td>\n",
       "      <td>2 BathsBa</td>\n",
       "      <td>1,000 SqftSqft</td>\n",
       "    </tr>\n",
       "    <tr>\n",
       "      <th>4</th>\n",
       "      <td>651 Willard Avenue, Toronto, Ontario M6S 3S1</td>\n",
       "      <td>$999,000 CAD</td>\n",
       "      <td>2 BedsBds</td>\n",
       "      <td>2 BathsBa</td>\n",
       "      <td>NaN</td>\n",
       "    </tr>\n",
       "  </tbody>\n",
       "</table>\n",
       "</div>"
      ],
      "text/plain": [
       "                                             Address         Price       Beds  \\\n",
       "0                    26 Laidlaw St, Toronto, Ontario  $799,000 CAD  2 BedsBds   \n",
       "1  Bayview at the Village - From Mid $400s - BAYV...  $695,000 CAD        NaN   \n",
       "2                     5 Soudan Ave, Toronto, Ontario  $799,900 CAD  2 BedsBds   \n",
       "3                500 Sherbourne St, Toronto, Ontario  $799,900 CAD    1 BedBd   \n",
       "4       651 Willard Avenue, Toronto, Ontario M6S 3S1  $999,000 CAD  2 BedsBds   \n",
       "\n",
       "       Baths           Space  \n",
       "0  2 BathsBa  1,000 SqftSqft  \n",
       "1        NaN             NaN  \n",
       "2  2 BathsBa    700 SqftSqft  \n",
       "3  2 BathsBa  1,000 SqftSqft  \n",
       "4  2 BathsBa             NaN  "
      ]
     },
     "execution_count": 2,
     "metadata": {},
     "output_type": "execute_result"
    }
   ],
   "source": [
    "df.head()"
   ]
  },
  {
   "cell_type": "code",
   "execution_count": 3,
   "metadata": {
    "scrolled": true
   },
   "outputs": [
    {
     "data": {
      "text/html": [
       "<div>\n",
       "<style scoped>\n",
       "    .dataframe tbody tr th:only-of-type {\n",
       "        vertical-align: middle;\n",
       "    }\n",
       "\n",
       "    .dataframe tbody tr th {\n",
       "        vertical-align: top;\n",
       "    }\n",
       "\n",
       "    .dataframe thead th {\n",
       "        text-align: right;\n",
       "    }\n",
       "</style>\n",
       "<table border=\"1\" class=\"dataframe\">\n",
       "  <thead>\n",
       "    <tr style=\"text-align: right;\">\n",
       "      <th></th>\n",
       "      <th>Address</th>\n",
       "      <th>Price</th>\n",
       "      <th>Beds</th>\n",
       "      <th>Baths</th>\n",
       "      <th>Space</th>\n",
       "    </tr>\n",
       "  </thead>\n",
       "  <tbody>\n",
       "    <tr>\n",
       "      <th>4817</th>\n",
       "      <td>85 East Liberty St E, Toronto, Ontario M6K3R4</td>\n",
       "      <td>$599,900 CAD</td>\n",
       "      <td>2 BedsBds</td>\n",
       "      <td>2 BathsBa</td>\n",
       "      <td>NaN</td>\n",
       "    </tr>\n",
       "    <tr>\n",
       "      <th>4818</th>\n",
       "      <td>Burke Condos - Toronto Preconstruction Condos,...</td>\n",
       "      <td>$689,000 CAD</td>\n",
       "      <td>1 BedBd</td>\n",
       "      <td>1 BathBa</td>\n",
       "      <td>500 SqftSqft</td>\n",
       "    </tr>\n",
       "    <tr>\n",
       "      <th>4819</th>\n",
       "      <td>McLevin Ave and Tapscott Rd, Toronto, Toronto,...</td>\n",
       "      <td>$620,000 CAD</td>\n",
       "      <td>2 BedsBds</td>\n",
       "      <td>2 BathsBa</td>\n",
       "      <td>NaN</td>\n",
       "    </tr>\n",
       "    <tr>\n",
       "      <th>4820</th>\n",
       "      <td>181 Sheppard Ave East, Toronto, Ontario</td>\n",
       "      <td>$908,900 CAD</td>\n",
       "      <td>2 BedsBds</td>\n",
       "      <td>2 BathsBa</td>\n",
       "      <td>NaN</td>\n",
       "    </tr>\n",
       "    <tr>\n",
       "      <th>4821</th>\n",
       "      <td>24 Buckingham St, Etobicoke, Toronto, Ontario ...</td>\n",
       "      <td>$450,000 CAD</td>\n",
       "      <td>1 BedBd</td>\n",
       "      <td>1 BathBa</td>\n",
       "      <td>NaN</td>\n",
       "    </tr>\n",
       "  </tbody>\n",
       "</table>\n",
       "</div>"
      ],
      "text/plain": [
       "                                                Address         Price  \\\n",
       "4817      85 East Liberty St E, Toronto, Ontario M6K3R4  $599,900 CAD   \n",
       "4818  Burke Condos - Toronto Preconstruction Condos,...  $689,000 CAD   \n",
       "4819  McLevin Ave and Tapscott Rd, Toronto, Toronto,...  $620,000 CAD   \n",
       "4820            181 Sheppard Ave East, Toronto, Ontario  $908,900 CAD   \n",
       "4821  24 Buckingham St, Etobicoke, Toronto, Ontario ...  $450,000 CAD   \n",
       "\n",
       "           Beds      Baths         Space  \n",
       "4817  2 BedsBds  2 BathsBa           NaN  \n",
       "4818    1 BedBd   1 BathBa  500 SqftSqft  \n",
       "4819  2 BedsBds  2 BathsBa           NaN  \n",
       "4820  2 BedsBds  2 BathsBa           NaN  \n",
       "4821    1 BedBd   1 BathBa           NaN  "
      ]
     },
     "execution_count": 3,
     "metadata": {},
     "output_type": "execute_result"
    }
   ],
   "source": [
    "df.tail()"
   ]
  },
  {
   "cell_type": "code",
   "execution_count": 4,
   "metadata": {},
   "outputs": [
    {
     "name": "stdout",
     "output_type": "stream",
     "text": [
      "(4546, 5)\n",
      "(4543, 5)\n"
     ]
    }
   ],
   "source": [
    "df = df.dropna(subset = [\"Beds\"])\n",
    "print(df.shape)\n",
    "df = df.dropna(subset = [\"Baths\"])\n",
    "print(df.shape)"
   ]
  },
  {
   "cell_type": "code",
   "execution_count": 5,
   "metadata": {},
   "outputs": [],
   "source": [
    "price = [int((p[1:-4]).replace(',', '')) for p in df['Price']]\n",
    "beds = [int(bd.split()[0]) for bd in df['Beds']]\n",
    "baths = [int(bt.split()[0]) for bt in df['Baths']]"
   ]
  },
  {
   "cell_type": "code",
   "execution_count": 6,
   "metadata": {},
   "outputs": [
    {
     "data": {
      "text/plain": [
       "Text(0, 0.5, 'price')"
      ]
     },
     "execution_count": 6,
     "metadata": {},
     "output_type": "execute_result"
    },
    {
     "data": {
      "image/png": "[encoded data removed]",
      "text/plain": [
       "<Figure size 432x288 with 1 Axes>"
      ]
     },
     "metadata": {},
     "output_type": "display_data"
    }
   ],
   "source": [
    "plt.scatter(beds, price)\n",
    "plt.xlabel('beds')\n",
    "plt.ylabel('price')"
   ]
  },
  {
   "cell_type": "code",
   "execution_count": 7,
   "metadata": {
    "scrolled": true
   },
   "outputs": [
    {
     "data": {
      "text/plain": [
       "Text(0, 0.5, 'price')"
      ]
     },
     "execution_count": 7,
     "metadata": {},
     "output_type": "execute_result"
    },
    {
     "data": {
      "image/png": "[encoded data removed]",
      "text/plain": [
       "<Figure size 432x288 with 1 Axes>"
      ]
     },
     "metadata": {},
     "output_type": "display_data"
    }
   ],
   "source": [
    "plt.scatter(baths, price)\n",
    "plt.xlabel('baths')\n",
    "plt.ylabel('price')"
   ]
  },
  {
   "cell_type": "code",
   "execution_count": 8,
   "metadata": {},
   "outputs": [
    {
     "name": "stdout",
     "output_type": "stream",
     "text": [
      "(2161, 5)\n"
     ]
    }
   ],
   "source": [
    "df = df.dropna(subset = [\"Space\"])\n",
    "print(df.shape)\n",
    "price = [int((p[1:-4]).replace(',', '')) for p in df['Price']]\n",
    "beds = [int(bd.split()[0]) for bd in df['Beds']]\n",
    "baths = [int(bt.split()[0]) for bt in df['Baths']]\n",
    "space = [int(s.split()[0].replace(',', '')) for s in df['Space']]"
   ]
  },
  {
   "cell_type": "code",
   "execution_count": 9,
   "metadata": {},
   "outputs": [
    {
     "data": {
      "text/plain": [
       "Text(0, 0.5, 'price')"
      ]
     },
     "execution_count": 9,
     "metadata": {},
     "output_type": "execute_result"
    },
    {
     "data": {
      "image/png": "[encoded data removed]",
      "text/plain": [
       "<Figure size 432x288 with 1 Axes>"
      ]
     },
     "metadata": {},
     "output_type": "display_data"
    }
   ],
   "source": [
    "plt.scatter(space, price)\n",
    "plt.xlabel('space')\n",
    "plt.ylabel('price')"
   ]
  },
  {
   "cell_type": "code",
   "execution_count": 10,
   "metadata": {},
   "outputs": [],
   "source": [
    "df2 = df.copy()\n",
    "df2['Price'], df2['Beds'], df2['Baths'], df2['Space'] = price, beds, baths, space"
   ]
  },
  {
   "cell_type": "code",
   "execution_count": 11,
   "metadata": {
    "scrolled": true
   },
   "outputs": [
    {
     "data": {
      "text/html": [
       "<div>\n",
       "<style scoped>\n",
       "    .dataframe tbody tr th:only-of-type {\n",
       "        vertical-align: middle;\n",
       "    }\n",
       "\n",
       "    .dataframe tbody tr th {\n",
       "        vertical-align: top;\n",
       "    }\n",
       "\n",
       "    .dataframe thead th {\n",
       "        text-align: right;\n",
       "    }\n",
       "</style>\n",
       "<table border=\"1\" class=\"dataframe\">\n",
       "  <thead>\n",
       "    <tr style=\"text-align: right;\">\n",
       "      <th></th>\n",
       "      <th>Address</th>\n",
       "      <th>Price</th>\n",
       "      <th>Beds</th>\n",
       "      <th>Baths</th>\n",
       "      <th>Space</th>\n",
       "    </tr>\n",
       "  </thead>\n",
       "  <tbody>\n",
       "    <tr>\n",
       "      <th>0</th>\n",
       "      <td>26 Laidlaw St, Toronto, Ontario</td>\n",
       "      <td>799000</td>\n",
       "      <td>2</td>\n",
       "      <td>2</td>\n",
       "      <td>1000</td>\n",
       "    </tr>\n",
       "    <tr>\n",
       "      <th>2</th>\n",
       "      <td>5 Soudan Ave, Toronto, Ontario</td>\n",
       "      <td>799900</td>\n",
       "      <td>2</td>\n",
       "      <td>2</td>\n",
       "      <td>700</td>\n",
       "    </tr>\n",
       "    <tr>\n",
       "      <th>3</th>\n",
       "      <td>500 Sherbourne St, Toronto, Ontario</td>\n",
       "      <td>799900</td>\n",
       "      <td>1</td>\n",
       "      <td>2</td>\n",
       "      <td>1000</td>\n",
       "    </tr>\n",
       "    <tr>\n",
       "      <th>7</th>\n",
       "      <td>53 Mcintosh St, Toronto, Ontario</td>\n",
       "      <td>1399000</td>\n",
       "      <td>4</td>\n",
       "      <td>4</td>\n",
       "      <td>2000</td>\n",
       "    </tr>\n",
       "    <tr>\n",
       "      <th>8</th>\n",
       "      <td>8 Mercer St, Toronto, Ontario</td>\n",
       "      <td>619000</td>\n",
       "      <td>1</td>\n",
       "      <td>1</td>\n",
       "      <td>500</td>\n",
       "    </tr>\n",
       "  </tbody>\n",
       "</table>\n",
       "</div>"
      ],
      "text/plain": [
       "                               Address    Price  Beds  Baths  Space\n",
       "0      26 Laidlaw St, Toronto, Ontario   799000     2      2   1000\n",
       "2       5 Soudan Ave, Toronto, Ontario   799900     2      2    700\n",
       "3  500 Sherbourne St, Toronto, Ontario   799900     1      2   1000\n",
       "7     53 Mcintosh St, Toronto, Ontario  1399000     4      4   2000\n",
       "8        8 Mercer St, Toronto, Ontario   619000     1      1    500"
      ]
     },
     "execution_count": 11,
     "metadata": {},
     "output_type": "execute_result"
    }
   ],
   "source": [
    "df2.head()"
   ]
  },
  {
   "cell_type": "code",
   "execution_count": 12,
   "metadata": {},
   "outputs": [
    {
     "data": {
      "text/html": [
       "<div>\n",
       "<style scoped>\n",
       "    .dataframe tbody tr th:only-of-type {\n",
       "        vertical-align: middle;\n",
       "    }\n",
       "\n",
       "    .dataframe tbody tr th {\n",
       "        vertical-align: top;\n",
       "    }\n",
       "\n",
       "    .dataframe thead th {\n",
       "        text-align: right;\n",
       "    }\n",
       "</style>\n",
       "<table border=\"1\" class=\"dataframe\">\n",
       "  <thead>\n",
       "    <tr style=\"text-align: right;\">\n",
       "      <th></th>\n",
       "      <th>Address</th>\n",
       "      <th>Price</th>\n",
       "      <th>Beds</th>\n",
       "      <th>Baths</th>\n",
       "      <th>Space</th>\n",
       "    </tr>\n",
       "  </thead>\n",
       "  <tbody>\n",
       "    <tr>\n",
       "      <th>716</th>\n",
       "      <td>4694 Kingston Road PERCH Condos, Toronto, Onta...</td>\n",
       "      <td>499900</td>\n",
       "      <td>1</td>\n",
       "      <td>1</td>\n",
       "      <td>535000</td>\n",
       "    </tr>\n",
       "  </tbody>\n",
       "</table>\n",
       "</div>"
      ],
      "text/plain": [
       "                                               Address   Price  Beds  Baths  \\\n",
       "716  4694 Kingston Road PERCH Condos, Toronto, Onta...  499900     1      1   \n",
       "\n",
       "      Space  \n",
       "716  535000  "
      ]
     },
     "execution_count": 12,
     "metadata": {},
     "output_type": "execute_result"
    }
   ],
   "source": [
    "# df2[(df2['Space'] < 1250) & (df2['Space'] > 1000) & (df2['Price'] >= 1000000)]\n",
    "df2[(df2['Space'] > 500000) & (df2['Price'] >= 200000)]"
   ]
  },
  {
   "cell_type": "code",
   "execution_count": 13,
   "metadata": {},
   "outputs": [
    {
     "data": {
      "text/plain": [
       "'M2M Townhomes. Yonge and Finch. M2M Spaces, Toronto, Ontario M2M 3T9'"
      ]
     },
     "execution_count": 13,
     "metadata": {},
     "output_type": "execute_result"
    }
   ],
   "source": [
    "df2.loc[135]['Address']"
   ]
  },
  {
   "cell_type": "code",
   "execution_count": 14,
   "metadata": {},
   "outputs": [
    {
     "data": {
      "text/plain": [
       "(2160, 5)"
      ]
     },
     "execution_count": 14,
     "metadata": {},
     "output_type": "execute_result"
    }
   ],
   "source": [
    "df2 = df2.drop(index=716)\n",
    "df2.shape"
   ]
  },
  {
   "cell_type": "code",
   "execution_count": 15,
   "metadata": {
    "scrolled": false
   },
   "outputs": [
    {
     "data": {
      "text/plain": [
       "<matplotlib.axes._subplots.AxesSubplot at 0x28e4acca1d0>"
      ]
     },
     "execution_count": 15,
     "metadata": {},
     "output_type": "execute_result"
    },
    {
     "data": {
      "image/png": "[encoded data removed]",
      "text/plain": [
       "<Figure size 1008x720 with 1 Axes>"
      ]
     },
     "metadata": {},
     "output_type": "display_data"
    }
   ],
   "source": [
    "sns.set(rc={'figure.figsize':(14, 10)})\n",
    "sns.scatterplot(data=df2, x=\"Price\", y=\"Space\", hue=\"Beds\", s=70)"
   ]
  },
  {
   "cell_type": "code",
   "execution_count": 16,
   "metadata": {},
   "outputs": [
    {
     "data": {
      "text/html": [
       "<div>\n",
       "<style scoped>\n",
       "    .dataframe tbody tr th:only-of-type {\n",
       "        vertical-align: middle;\n",
       "    }\n",
       "\n",
       "    .dataframe tbody tr th {\n",
       "        vertical-align: top;\n",
       "    }\n",
       "\n",
       "    .dataframe thead th {\n",
       "        text-align: right;\n",
       "    }\n",
       "</style>\n",
       "<table border=\"1\" class=\"dataframe\">\n",
       "  <thead>\n",
       "    <tr style=\"text-align: right;\">\n",
       "      <th></th>\n",
       "      <th>Address</th>\n",
       "      <th>Price</th>\n",
       "      <th>Beds</th>\n",
       "      <th>Baths</th>\n",
       "      <th>Space</th>\n",
       "    </tr>\n",
       "  </thead>\n",
       "  <tbody>\n",
       "    <tr>\n",
       "      <th>507</th>\n",
       "      <td>143 Joicey Boulevard, Toronto, Ontario M5M 2T8</td>\n",
       "      <td>2495000</td>\n",
       "      <td>3</td>\n",
       "      <td>3</td>\n",
       "      <td>2990</td>\n",
       "    </tr>\n",
       "    <tr>\n",
       "      <th>526</th>\n",
       "      <td>300 Hendon Avenue, Toronto, Ontario M2M 1B2</td>\n",
       "      <td>2688000</td>\n",
       "      <td>3</td>\n",
       "      <td>2</td>\n",
       "      <td>1945</td>\n",
       "    </tr>\n",
       "    <tr>\n",
       "      <th>530</th>\n",
       "      <td>388 Yonge Street, Toronto, Ontario M5B 1L2</td>\n",
       "      <td>3399999</td>\n",
       "      <td>2</td>\n",
       "      <td>2</td>\n",
       "      <td>900</td>\n",
       "    </tr>\n",
       "    <tr>\n",
       "      <th>558</th>\n",
       "      <td>252 Newton Dr, Toronto, Ontario M2M2P4</td>\n",
       "      <td>3180000</td>\n",
       "      <td>4</td>\n",
       "      <td>7</td>\n",
       "      <td>5000</td>\n",
       "    </tr>\n",
       "    <tr>\n",
       "      <th>684</th>\n",
       "      <td>107 Otonabee Ave, Toronto, Ontario</td>\n",
       "      <td>3288000</td>\n",
       "      <td>4</td>\n",
       "      <td>5</td>\n",
       "      <td>5000</td>\n",
       "    </tr>\n",
       "  </tbody>\n",
       "</table>\n",
       "</div>"
      ],
      "text/plain": [
       "                                            Address    Price  Beds  Baths  \\\n",
       "507  143 Joicey Boulevard, Toronto, Ontario M5M 2T8  2495000     3      3   \n",
       "526     300 Hendon Avenue, Toronto, Ontario M2M 1B2  2688000     3      2   \n",
       "530      388 Yonge Street, Toronto, Ontario M5B 1L2  3399999     2      2   \n",
       "558          252 Newton Dr, Toronto, Ontario M2M2P4  3180000     4      7   \n",
       "684              107 Otonabee Ave, Toronto, Ontario  3288000     4      5   \n",
       "\n",
       "     Space  \n",
       "507   2990  \n",
       "526   1945  \n",
       "530    900  \n",
       "558   5000  \n",
       "684   5000  "
      ]
     },
     "execution_count": 16,
     "metadata": {},
     "output_type": "execute_result"
    }
   ],
   "source": [
    "df2[(df2['Space'] > 500) & (df2['Price'] >= 2000000)]"
   ]
  },
  {
   "cell_type": "markdown",
   "metadata": {},
   "source": [
    "### Housing in Markham"
   ]
  },
  {
   "cell_type": "code",
   "execution_count": 17,
   "metadata": {
    "scrolled": true
   },
   "outputs": [],
   "source": [
    "markham_houses = pd.read_csv(\"Markham-Real-Estate-Listings-2021-05-29.csv\")\n",
    "markham_condos = pd.read_csv(\"Markham-Condos-For-Sale-2021-05-29.csv\")\n",
    "\n",
    "markham_houses = markham_houses.dropna(subset = [\"Beds\"])\n",
    "# print(markham_houses.shape)\n",
    "markham_houses = markham_houses.dropna(subset = [\"Baths\"])\n",
    "# print(markham_houses.shape)\n",
    "markham_houses = markham_houses.dropna(subset = [\"Space\"])\n",
    "# print(markham_houses.shape)\n",
    "markham_houses = markham_houses.dropna(subset = [\"Price\"])\n",
    "# print(markham_houses.shape)\n",
    "\n",
    "markham_condos = markham_condos.dropna(subset = [\"Beds\"])\n",
    "# print(markham_condos.shape)\n",
    "markham_condos = markham_condos.dropna(subset = [\"Baths\"])\n",
    "# print(markham_condos.shape)\n",
    "markham_condos = markham_condos.dropna(subset = [\"Space\"])\n",
    "# print(markham_condos.shape)\n",
    "markham_condos = markham_condos.dropna(subset = [\"Price\"])\n",
    "# print(markham_condos.shape)\n",
    "\n",
    "# markham house features\n",
    "mkh_price = [int((p[1:-4]).replace(',', '')) for p in markham_houses['Price']]\n",
    "mkh_beds = [int(bd.split()[0]) for bd in markham_houses['Beds']]\n",
    "mkh_baths = [int(bt.split()[0]) for bt in markham_houses['Baths']]\n",
    "mkh_space = [int(s.split()[0].replace(',', '')) for s in markham_houses['Space']]\n",
    "markham_houses['Price'], markham_houses['Beds'], markham_houses['Baths'], markham_houses['Space'] = mkh_price, mkh_beds, mkh_baths, mkh_space\n",
    "\n",
    "# markham condo features\n",
    "mkc_price = [int((p[1:-4]).replace(',', '')) for p in markham_condos['Price']]\n",
    "mkc_beds = [int(bd.split()[0]) for bd in markham_condos['Beds']]\n",
    "mkc_baths = [int(bt.split()[0]) for bt in markham_condos['Baths']]\n",
    "mkc_space = [int(s.split()[0].replace(',', '')) for s in markham_condos['Space']]\n",
    "markham_condos['Price'], markham_condos['Beds'], markham_condos['Baths'], markham_condos['Space'] = mkc_price, mkc_beds, mkc_baths, mkc_space\n",
    "\n",
    "# plt.scatter(mkh_price, mkh_space)\n",
    "# plt.scatter(mkc_price, mkc_space)"
   ]
  },
  {
   "cell_type": "code",
   "execution_count": 18,
   "metadata": {},
   "outputs": [
    {
     "data": {
      "text/html": [
       "<div>\n",
       "<style scoped>\n",
       "    .dataframe tbody tr th:only-of-type {\n",
       "        vertical-align: middle;\n",
       "    }\n",
       "\n",
       "    .dataframe tbody tr th {\n",
       "        vertical-align: top;\n",
       "    }\n",
       "\n",
       "    .dataframe thead th {\n",
       "        text-align: right;\n",
       "    }\n",
       "</style>\n",
       "<table border=\"1\" class=\"dataframe\">\n",
       "  <thead>\n",
       "    <tr style=\"text-align: right;\">\n",
       "      <th></th>\n",
       "      <th>Address</th>\n",
       "      <th>Price</th>\n",
       "      <th>Beds</th>\n",
       "      <th>Baths</th>\n",
       "      <th>Space</th>\n",
       "    </tr>\n",
       "  </thead>\n",
       "  <tbody>\n",
       "    <tr>\n",
       "      <th>1071</th>\n",
       "      <td>10 Westmeath Lane, Markham, Ontario</td>\n",
       "      <td>738888</td>\n",
       "      <td>2</td>\n",
       "      <td>2</td>\n",
       "      <td>1000</td>\n",
       "    </tr>\n",
       "    <tr>\n",
       "      <th>1077</th>\n",
       "      <td>42 Clark Ave, Markham, Ontario</td>\n",
       "      <td>1998000</td>\n",
       "      <td>3</td>\n",
       "      <td>4</td>\n",
       "      <td>2500</td>\n",
       "    </tr>\n",
       "    <tr>\n",
       "      <th>1094</th>\n",
       "      <td>10 Welland Rd, Markham, Ontario</td>\n",
       "      <td>898888</td>\n",
       "      <td>3</td>\n",
       "      <td>4</td>\n",
       "      <td>1500</td>\n",
       "    </tr>\n",
       "    <tr>\n",
       "      <th>1095</th>\n",
       "      <td>10 Westmeath Lane, Markham, Ontario</td>\n",
       "      <td>738888</td>\n",
       "      <td>2</td>\n",
       "      <td>2</td>\n",
       "      <td>1000</td>\n",
       "    </tr>\n",
       "    <tr>\n",
       "      <th>1101</th>\n",
       "      <td>42 Clark Ave, Markham, Ontario</td>\n",
       "      <td>1998000</td>\n",
       "      <td>3</td>\n",
       "      <td>4</td>\n",
       "      <td>2500</td>\n",
       "    </tr>\n",
       "  </tbody>\n",
       "</table>\n",
       "</div>"
      ],
      "text/plain": [
       "                                  Address    Price  Beds  Baths  Space\n",
       "1071  10 Westmeath Lane, Markham, Ontario   738888     2      2   1000\n",
       "1077       42 Clark Ave, Markham, Ontario  1998000     3      4   2500\n",
       "1094      10 Welland Rd, Markham, Ontario   898888     3      4   1500\n",
       "1095  10 Westmeath Lane, Markham, Ontario   738888     2      2   1000\n",
       "1101       42 Clark Ave, Markham, Ontario  1998000     3      4   2500"
      ]
     },
     "execution_count": 18,
     "metadata": {},
     "output_type": "execute_result"
    }
   ],
   "source": [
    "markham_houses.tail()"
   ]
  },
  {
   "cell_type": "code",
   "execution_count": 19,
   "metadata": {},
   "outputs": [
    {
     "data": {
      "text/plain": [
       "<matplotlib.axes._subplots.AxesSubplot at 0x28e4ad538d0>"
      ]
     },
     "execution_count": 19,
     "metadata": {},
     "output_type": "execute_result"
    },
    {
     "data": {
      "image/png": "[encoded data removed]",
      "text/plain": [
       "<Figure size 1008x720 with 1 Axes>"
      ]
     },
     "metadata": {},
     "output_type": "display_data"
    }
   ],
   "source": [
    "sns.set(rc={'figure.figsize':(14, 10)})\n",
    "sns.scatterplot(data=markham_houses, x=\"Price\", y=\"Space\", hue=\"Beds\", s=70)"
   ]
  },
  {
   "cell_type": "code",
   "execution_count": 20,
   "metadata": {
    "scrolled": false
   },
   "outputs": [
    {
     "data": {
      "text/plain": [
       "<matplotlib.axes._subplots.AxesSubplot at 0x28e4add7940>"
      ]
     },
     "execution_count": 20,
     "metadata": {},
     "output_type": "execute_result"
    },
    {
     "data": {
      "image/png": "[encoded data removed]",
      "text/plain": [
       "<Figure size 1008x720 with 1 Axes>"
      ]
     },
     "metadata": {},
     "output_type": "display_data"
    }
   ],
   "source": [
    "sns.set(rc={'figure.figsize':(14, 10)})\n",
    "sns.scatterplot(data=markham_condos, x=\"Price\", y=\"Space\", hue=\"Beds\", s=70)"
   ]
  },
  {
   "cell_type": "code",
   "execution_count": 21,
   "metadata": {},
   "outputs": [
    {
     "data": {
      "text/html": [
       "<div>\n",
       "<style scoped>\n",
       "    .dataframe tbody tr th:only-of-type {\n",
       "        vertical-align: middle;\n",
       "    }\n",
       "\n",
       "    .dataframe tbody tr th {\n",
       "        vertical-align: top;\n",
       "    }\n",
       "\n",
       "    .dataframe thead th {\n",
       "        text-align: right;\n",
       "    }\n",
       "</style>\n",
       "<table border=\"1\" class=\"dataframe\">\n",
       "  <thead>\n",
       "    <tr style=\"text-align: right;\">\n",
       "      <th></th>\n",
       "      <th>Address</th>\n",
       "      <th>Price</th>\n",
       "      <th>Beds</th>\n",
       "      <th>Baths</th>\n",
       "      <th>Space</th>\n",
       "    </tr>\n",
       "  </thead>\n",
       "  <tbody>\n",
       "    <tr>\n",
       "      <th>1071</th>\n",
       "      <td>10 Westmeath Lane, Markham, Ontario</td>\n",
       "      <td>738888</td>\n",
       "      <td>2</td>\n",
       "      <td>2</td>\n",
       "      <td>1000</td>\n",
       "    </tr>\n",
       "    <tr>\n",
       "      <th>1077</th>\n",
       "      <td>42 Clark Ave, Markham, Ontario</td>\n",
       "      <td>1998000</td>\n",
       "      <td>3</td>\n",
       "      <td>4</td>\n",
       "      <td>2500</td>\n",
       "    </tr>\n",
       "    <tr>\n",
       "      <th>1094</th>\n",
       "      <td>10 Welland Rd, Markham, Ontario</td>\n",
       "      <td>898888</td>\n",
       "      <td>3</td>\n",
       "      <td>4</td>\n",
       "      <td>1500</td>\n",
       "    </tr>\n",
       "    <tr>\n",
       "      <th>1095</th>\n",
       "      <td>10 Westmeath Lane, Markham, Ontario</td>\n",
       "      <td>738888</td>\n",
       "      <td>2</td>\n",
       "      <td>2</td>\n",
       "      <td>1000</td>\n",
       "    </tr>\n",
       "    <tr>\n",
       "      <th>1101</th>\n",
       "      <td>42 Clark Ave, Markham, Ontario</td>\n",
       "      <td>1998000</td>\n",
       "      <td>3</td>\n",
       "      <td>4</td>\n",
       "      <td>2500</td>\n",
       "    </tr>\n",
       "  </tbody>\n",
       "</table>\n",
       "</div>"
      ],
      "text/plain": [
       "                                  Address    Price  Beds  Baths  Space\n",
       "1071  10 Westmeath Lane, Markham, Ontario   738888     2      2   1000\n",
       "1077       42 Clark Ave, Markham, Ontario  1998000     3      4   2500\n",
       "1094      10 Welland Rd, Markham, Ontario   898888     3      4   1500\n",
       "1095  10 Westmeath Lane, Markham, Ontario   738888     2      2   1000\n",
       "1101       42 Clark Ave, Markham, Ontario  1998000     3      4   2500"
      ]
     },
     "execution_count": 21,
     "metadata": {},
     "output_type": "execute_result"
    }
   ],
   "source": [
    "markham_houses.tail()"
   ]
  },
  {
   "cell_type": "code",
   "execution_count": 22,
   "metadata": {},
   "outputs": [
    {
     "data": {
      "text/html": [
       "<div>\n",
       "<style scoped>\n",
       "    .dataframe tbody tr th:only-of-type {\n",
       "        vertical-align: middle;\n",
       "    }\n",
       "\n",
       "    .dataframe tbody tr th {\n",
       "        vertical-align: top;\n",
       "    }\n",
       "\n",
       "    .dataframe thead th {\n",
       "        text-align: right;\n",
       "    }\n",
       "</style>\n",
       "<table border=\"1\" class=\"dataframe\">\n",
       "  <thead>\n",
       "    <tr style=\"text-align: right;\">\n",
       "      <th></th>\n",
       "      <th>Address</th>\n",
       "      <th>Price</th>\n",
       "      <th>Beds</th>\n",
       "      <th>Baths</th>\n",
       "      <th>Space</th>\n",
       "    </tr>\n",
       "  </thead>\n",
       "  <tbody>\n",
       "    <tr>\n",
       "      <th>1809</th>\n",
       "      <td>540 Bur Oak Ave, Markham, Ontario L6C0C4</td>\n",
       "      <td>499000</td>\n",
       "      <td>1</td>\n",
       "      <td>2</td>\n",
       "      <td>649</td>\n",
       "    </tr>\n",
       "    <tr>\n",
       "      <th>1818</th>\n",
       "      <td>308-39 New Delhi Dr, Markham, ON L3S0E1, Markh...</td>\n",
       "      <td>599000</td>\n",
       "      <td>3</td>\n",
       "      <td>2</td>\n",
       "      <td>1055</td>\n",
       "    </tr>\n",
       "    <tr>\n",
       "      <th>1820</th>\n",
       "      <td>10 Welland Rd, Markham, Ontario</td>\n",
       "      <td>898888</td>\n",
       "      <td>3</td>\n",
       "      <td>4</td>\n",
       "      <td>1500</td>\n",
       "    </tr>\n",
       "    <tr>\n",
       "      <th>1833</th>\n",
       "      <td>540 Bur Oak Ave, Markham, Ontario L6C0C4</td>\n",
       "      <td>499000</td>\n",
       "      <td>1</td>\n",
       "      <td>2</td>\n",
       "      <td>649</td>\n",
       "    </tr>\n",
       "    <tr>\n",
       "      <th>1842</th>\n",
       "      <td>308-39 New Delhi Dr, Markham, ON L3S0E1, Markh...</td>\n",
       "      <td>599000</td>\n",
       "      <td>3</td>\n",
       "      <td>2</td>\n",
       "      <td>1055</td>\n",
       "    </tr>\n",
       "  </tbody>\n",
       "</table>\n",
       "</div>"
      ],
      "text/plain": [
       "                                                Address   Price  Beds  Baths  \\\n",
       "1809           540 Bur Oak Ave, Markham, Ontario L6C0C4  499000     1      2   \n",
       "1818  308-39 New Delhi Dr, Markham, ON L3S0E1, Markh...  599000     3      2   \n",
       "1820                    10 Welland Rd, Markham, Ontario  898888     3      4   \n",
       "1833           540 Bur Oak Ave, Markham, Ontario L6C0C4  499000     1      2   \n",
       "1842  308-39 New Delhi Dr, Markham, ON L3S0E1, Markh...  599000     3      2   \n",
       "\n",
       "      Space  \n",
       "1809    649  \n",
       "1818   1055  \n",
       "1820   1500  \n",
       "1833    649  \n",
       "1842   1055  "
      ]
     },
     "execution_count": 22,
     "metadata": {},
     "output_type": "execute_result"
    }
   ],
   "source": [
    "markham_condos.tail()"
   ]
  },
  {
   "cell_type": "markdown",
   "metadata": {},
   "source": [
    "### Housing in Mississauga"
   ]
  },
  {
   "cell_type": "code",
   "execution_count": 23,
   "metadata": {},
   "outputs": [],
   "source": [
    "mississauga_houses = pd.read_csv(\"Mississauga-Real-Estate-Listings-2021-05-29.csv\")\n",
    "mississauga_condos = pd.read_csv(\"Mississauga-Condos-For-Sale-2021-05-29.csv\")\n",
    "\n",
    "mississauga_houses = mississauga_houses.dropna(subset = [\"Beds\"])\n",
    "# print(mississauga_houses.shape)\n",
    "mississauga_houses = mississauga_houses.dropna(subset = [\"Baths\"])\n",
    "# print(mississauga_houses.shape)\n",
    "mississauga_houses = mississauga_houses.dropna(subset = [\"Space\"])\n",
    "# print(mississauga_houses.shape)\n",
    "mississauga_houses = mississauga_houses.dropna(subset = [\"Price\"])\n",
    "# print(mississauga_houses.shape)\n",
    "\n",
    "mississauga_condos = mississauga_condos.dropna(subset = [\"Beds\"])\n",
    "# print(mississauga_condos.shape)\n",
    "mississauga_condos = mississauga_condos.dropna(subset = [\"Baths\"])\n",
    "# print(mississauga_condos.shape)\n",
    "mississauga_condos = mississauga_condos.dropna(subset = [\"Space\"])\n",
    "# print(mississauga_condos.shape)\n",
    "mississauga_condos = mississauga_condos.dropna(subset = [\"Price\"])\n",
    "# print(mississauga_condos.shape)\n",
    "\n",
    "# mississauga house features\n",
    "msh_price = [int((p[1:-4]).replace(',', '')) for p in mississauga_houses['Price']]\n",
    "msh_beds = [int(bd.split()[0]) for bd in mississauga_houses['Beds']]\n",
    "msh_baths = [int(bt.split()[0]) for bt in mississauga_houses['Baths']]\n",
    "msh_space = [int(s.split()[0].replace(',', '')) for s in mississauga_houses['Space']]\n",
    "mississauga_houses['Price'], mississauga_houses['Beds'], mississauga_houses['Baths'], mississauga_houses['Space'] = msh_price, msh_beds, msh_baths, msh_space\n",
    "\n",
    "# mississauga condo features\n",
    "msc_price = [int((p[1:-4]).replace(',', '')) for p in mississauga_condos['Price']]\n",
    "msc_beds = [int(bd.split()[0]) for bd in mississauga_condos['Beds']]\n",
    "msc_baths = [int(bt.split()[0]) for bt in mississauga_condos['Baths']]\n",
    "msc_space = [int(s.split()[0].replace(',', '')) for s in mississauga_condos['Space']]\n",
    "mississauga_condos['Price'], mississauga_condos['Beds'], mississauga_condos['Baths'], mississauga_condos['Space'] = msc_price, msc_beds, msc_baths, msc_space\n",
    "\n",
    "# plt.scatter(msh_price, msh_space)\n",
    "# plt.scatter(msc_price, msc_space)"
   ]
  },
  {
   "cell_type": "code",
   "execution_count": 24,
   "metadata": {},
   "outputs": [
    {
     "data": {
      "text/plain": [
       "<matplotlib.axes._subplots.AxesSubplot at 0x28e4ae2a6d8>"
      ]
     },
     "execution_count": 24,
     "metadata": {},
     "output_type": "execute_result"
    },
    {
     "data": {
      "image/png": "[encoded data removed]",
      "text/plain": [
       "<Figure size 1008x720 with 1 Axes>"
      ]
     },
     "metadata": {},
     "output_type": "display_data"
    }
   ],
   "source": [
    "sns.set(rc={'figure.figsize':(14, 10)})\n",
    "sns.scatterplot(data=mississauga_houses, x=\"Price\", y=\"Space\", hue=\"Beds\", s=70)"
   ]
  },
  {
   "cell_type": "code",
   "execution_count": 25,
   "metadata": {
    "scrolled": true
   },
   "outputs": [
    {
     "data": {
      "text/plain": [
       "<matplotlib.axes._subplots.AxesSubplot at 0x28e4b358e10>"
      ]
     },
     "execution_count": 25,
     "metadata": {},
     "output_type": "execute_result"
    },
    {
     "data": {
      "image/png": "[encoded data removed]",
      "text/plain": [
       "<Figure size 1008x720 with 1 Axes>"
      ]
     },
     "metadata": {},
     "output_type": "display_data"
    }
   ],
   "source": [
    "sns.set(rc={'figure.figsize':(14, 10)})\n",
    "sns.scatterplot(data=mississauga_condos, x=\"Price\", y=\"Space\", hue=\"Beds\", s=70)"
   ]
  },
  {
   "cell_type": "markdown",
   "metadata": {},
   "source": [
    "### House Listing Changes in Toronto"
   ]
  },
  {
   "cell_type": "code",
   "execution_count": 26,
   "metadata": {
    "scrolled": true
   },
   "outputs": [
    {
     "name": "stdout",
     "output_type": "stream",
     "text": [
      "(4822, 5)\n",
      "(607, 5)\n",
      "(4679, 5)\n",
      "(557, 5)\n"
     ]
    }
   ],
   "source": [
    "import pandas as pd\n",
    "\n",
    "toronto_house_past = pd.read_csv('Toronto-Real-Estate-Listings-2021-05-28.csv')\n",
    "print(toronto_house_past.shape)\n",
    "# toronto_house_past = toronto_house_past.drop_duplicates(subset = ['Address'])\n",
    "toronto_house_past = toronto_house_past.drop_duplicates() # drop rows that are identical\n",
    "print(toronto_house_past.shape)\n",
    "toronto_house_present = pd.read_csv('Toronto-Real-Estate-Listings-2021-05-31.csv')\n",
    "print(toronto_house_present.shape)\n",
    "# toronto_house_present = toronto_house_present.drop_duplicates(subset = ['Address'])\n",
    "toronto_house_present = toronto_house_present.drop_duplicates() # drop rows that are identical\n",
    "print(toronto_house_present.shape)"
   ]
  },
  {
   "cell_type": "code",
   "execution_count": 27,
   "metadata": {},
   "outputs": [],
   "source": [
    "# drop empty rows from dataframe for specified columns\n",
    "toronto_house_past = toronto_house_past.dropna(subset = ['Price'])\n",
    "toronto_house_past = toronto_house_past.dropna(subset = ['Space'])\n",
    "# assign integer values to variables\n",
    "price = [int((p[1:-4]).replace(',', '')) for p in toronto_house_past['Price']]\n",
    "space = [int(float(s.split()[0].replace(',', ''))) for s in toronto_house_past['Space']]\n",
    "# assign specified dataframe columns integer values\n",
    "toronto_house_past['Price'], toronto_house_past['Space'] = price, space"
   ]
  },
  {
   "cell_type": "code",
   "execution_count": 28,
   "metadata": {},
   "outputs": [],
   "source": [
    "# drop empty rows from dataframe for specified columns\n",
    "toronto_house_present = toronto_house_present.dropna(subset = ['Price'])\n",
    "toronto_house_present = toronto_house_present.dropna(subset = ['Space'])\n",
    "# assign integer values to variables\n",
    "price = [int((p[1:-4]).replace(',', '')) for p in toronto_house_present['Price']]\n",
    "space = [int(float(s.split()[0].replace(',', ''))) for s in toronto_house_present['Space']]\n",
    "# assign specified dataframe columns integer values\n",
    "toronto_house_present['Price'], toronto_house_present['Space'] = price, space"
   ]
  },
  {
   "cell_type": "code",
   "execution_count": 29,
   "metadata": {},
   "outputs": [
    {
     "data": {
      "text/html": [
       "<div>\n",
       "<style scoped>\n",
       "    .dataframe tbody tr th:only-of-type {\n",
       "        vertical-align: middle;\n",
       "    }\n",
       "\n",
       "    .dataframe tbody tr th {\n",
       "        vertical-align: top;\n",
       "    }\n",
       "\n",
       "    .dataframe thead th {\n",
       "        text-align: right;\n",
       "    }\n",
       "</style>\n",
       "<table border=\"1\" class=\"dataframe\">\n",
       "  <thead>\n",
       "    <tr style=\"text-align: right;\">\n",
       "      <th></th>\n",
       "      <th>Address</th>\n",
       "      <th>Price</th>\n",
       "      <th>Beds</th>\n",
       "      <th>Baths</th>\n",
       "      <th>Space</th>\n",
       "    </tr>\n",
       "  </thead>\n",
       "  <tbody>\n",
       "    <tr>\n",
       "      <th>303</th>\n",
       "      <td>4 &amp; 6 ORIOLE GDNS, Toronto, Ontario M4V1V7</td>\n",
       "      <td>6790000</td>\n",
       "      <td>NaN</td>\n",
       "      <td>NaN</td>\n",
       "      <td>7300</td>\n",
       "    </tr>\n",
       "    <tr>\n",
       "      <th>623</th>\n",
       "      <td>652 Queen St W, Toronto, Ontario M6J1E5</td>\n",
       "      <td>4825000</td>\n",
       "      <td>NaN</td>\n",
       "      <td>NaN</td>\n",
       "      <td>4645</td>\n",
       "    </tr>\n",
       "    <tr>\n",
       "      <th>530</th>\n",
       "      <td>388 Yonge Street, Toronto, Ontario M5B 1L2</td>\n",
       "      <td>3399999</td>\n",
       "      <td>2 BedsBds</td>\n",
       "      <td>2 BathsBa</td>\n",
       "      <td>900</td>\n",
       "    </tr>\n",
       "    <tr>\n",
       "      <th>684</th>\n",
       "      <td>107 Otonabee Ave, Toronto, Ontario</td>\n",
       "      <td>3288000</td>\n",
       "      <td>4 BedsBds</td>\n",
       "      <td>5 BathsBa</td>\n",
       "      <td>5000</td>\n",
       "    </tr>\n",
       "    <tr>\n",
       "      <th>558</th>\n",
       "      <td>252 Newton Dr, Toronto, Ontario M2M2P4</td>\n",
       "      <td>3180000</td>\n",
       "      <td>4 BedsBds</td>\n",
       "      <td>7 BathsBa</td>\n",
       "      <td>5000</td>\n",
       "    </tr>\n",
       "  </tbody>\n",
       "</table>\n",
       "</div>"
      ],
      "text/plain": [
       "                                        Address    Price       Beds  \\\n",
       "303  4 & 6 ORIOLE GDNS, Toronto, Ontario M4V1V7  6790000        NaN   \n",
       "623     652 Queen St W, Toronto, Ontario M6J1E5  4825000        NaN   \n",
       "530  388 Yonge Street, Toronto, Ontario M5B 1L2  3399999  2 BedsBds   \n",
       "684          107 Otonabee Ave, Toronto, Ontario  3288000  4 BedsBds   \n",
       "558      252 Newton Dr, Toronto, Ontario M2M2P4  3180000  4 BedsBds   \n",
       "\n",
       "         Baths  Space  \n",
       "303        NaN   7300  \n",
       "623        NaN   4645  \n",
       "530  2 BathsBa    900  \n",
       "684  5 BathsBa   5000  \n",
       "558  7 BathsBa   5000  "
      ]
     },
     "execution_count": 29,
     "metadata": {},
     "output_type": "execute_result"
    }
   ],
   "source": [
    "toronto_house_past.sort_values([\"Price\"], ascending=False).head()"
   ]
  },
  {
   "cell_type": "code",
   "execution_count": 30,
   "metadata": {
    "scrolled": true
   },
   "outputs": [
    {
     "data": {
      "text/html": [
       "<div>\n",
       "<style scoped>\n",
       "    .dataframe tbody tr th:only-of-type {\n",
       "        vertical-align: middle;\n",
       "    }\n",
       "\n",
       "    .dataframe tbody tr th {\n",
       "        vertical-align: top;\n",
       "    }\n",
       "\n",
       "    .dataframe thead th {\n",
       "        text-align: right;\n",
       "    }\n",
       "</style>\n",
       "<table border=\"1\" class=\"dataframe\">\n",
       "  <thead>\n",
       "    <tr style=\"text-align: right;\">\n",
       "      <th></th>\n",
       "      <th>Address</th>\n",
       "      <th>Price</th>\n",
       "      <th>Beds</th>\n",
       "      <th>Baths</th>\n",
       "      <th>Space</th>\n",
       "    </tr>\n",
       "  </thead>\n",
       "  <tbody>\n",
       "    <tr>\n",
       "      <th>716</th>\n",
       "      <td>4694 Kingston Road PERCH Condos, Toronto, Onta...</td>\n",
       "      <td>499900</td>\n",
       "      <td>1 BedBd</td>\n",
       "      <td>1 BathBa</td>\n",
       "      <td>535000</td>\n",
       "    </tr>\n",
       "    <tr>\n",
       "      <th>303</th>\n",
       "      <td>4 &amp; 6 ORIOLE GDNS, Toronto, Ontario M4V1V7</td>\n",
       "      <td>6790000</td>\n",
       "      <td>NaN</td>\n",
       "      <td>NaN</td>\n",
       "      <td>7300</td>\n",
       "    </tr>\n",
       "    <tr>\n",
       "      <th>558</th>\n",
       "      <td>252 Newton Dr, Toronto, Ontario M2M2P4</td>\n",
       "      <td>3180000</td>\n",
       "      <td>4 BedsBds</td>\n",
       "      <td>7 BathsBa</td>\n",
       "      <td>5000</td>\n",
       "    </tr>\n",
       "    <tr>\n",
       "      <th>684</th>\n",
       "      <td>107 Otonabee Ave, Toronto, Ontario</td>\n",
       "      <td>3288000</td>\n",
       "      <td>4 BedsBds</td>\n",
       "      <td>5 BathsBa</td>\n",
       "      <td>5000</td>\n",
       "    </tr>\n",
       "    <tr>\n",
       "      <th>623</th>\n",
       "      <td>652 Queen St W, Toronto, Ontario M6J1E5</td>\n",
       "      <td>4825000</td>\n",
       "      <td>NaN</td>\n",
       "      <td>NaN</td>\n",
       "      <td>4645</td>\n",
       "    </tr>\n",
       "  </tbody>\n",
       "</table>\n",
       "</div>"
      ],
      "text/plain": [
       "                                               Address    Price       Beds  \\\n",
       "716  4694 Kingston Road PERCH Condos, Toronto, Onta...   499900    1 BedBd   \n",
       "303         4 & 6 ORIOLE GDNS, Toronto, Ontario M4V1V7  6790000        NaN   \n",
       "558             252 Newton Dr, Toronto, Ontario M2M2P4  3180000  4 BedsBds   \n",
       "684                 107 Otonabee Ave, Toronto, Ontario  3288000  4 BedsBds   \n",
       "623            652 Queen St W, Toronto, Ontario M6J1E5  4825000        NaN   \n",
       "\n",
       "         Baths   Space  \n",
       "716   1 BathBa  535000  \n",
       "303        NaN    7300  \n",
       "558  7 BathsBa    5000  \n",
       "684  5 BathsBa    5000  \n",
       "623        NaN    4645  "
      ]
     },
     "execution_count": 30,
     "metadata": {},
     "output_type": "execute_result"
    }
   ],
   "source": [
    "toronto_house_past.sort_values([\"Space\"], ascending=False).head()"
   ]
  },
  {
   "cell_type": "code",
   "execution_count": 31,
   "metadata": {},
   "outputs": [
    {
     "data": {
      "text/html": [
       "<div>\n",
       "<style scoped>\n",
       "    .dataframe tbody tr th:only-of-type {\n",
       "        vertical-align: middle;\n",
       "    }\n",
       "\n",
       "    .dataframe tbody tr th {\n",
       "        vertical-align: top;\n",
       "    }\n",
       "\n",
       "    .dataframe thead th {\n",
       "        text-align: right;\n",
       "    }\n",
       "</style>\n",
       "<table border=\"1\" class=\"dataframe\">\n",
       "  <thead>\n",
       "    <tr style=\"text-align: right;\">\n",
       "      <th></th>\n",
       "      <th>Address</th>\n",
       "      <th>Price</th>\n",
       "      <th>Beds</th>\n",
       "      <th>Baths</th>\n",
       "      <th>Space</th>\n",
       "    </tr>\n",
       "  </thead>\n",
       "  <tbody>\n",
       "    <tr>\n",
       "      <th>352</th>\n",
       "      <td>652 Queen St W, Toronto, Ontario M6J1E5</td>\n",
       "      <td>4825000</td>\n",
       "      <td>NaN</td>\n",
       "      <td>NaN</td>\n",
       "      <td>4645</td>\n",
       "    </tr>\n",
       "    <tr>\n",
       "      <th>660</th>\n",
       "      <td>176 Haddington Avenue, Toronto, Ontario M5M2P8</td>\n",
       "      <td>4488888</td>\n",
       "      <td>5 BedsBds</td>\n",
       "      <td>4 BathsBa</td>\n",
       "      <td>4169</td>\n",
       "    </tr>\n",
       "    <tr>\n",
       "      <th>415</th>\n",
       "      <td>388 Yonge Street, Toronto, Ontario M5B 1L2</td>\n",
       "      <td>3399999</td>\n",
       "      <td>2 BedsBds</td>\n",
       "      <td>2 BathsBa</td>\n",
       "      <td>900</td>\n",
       "    </tr>\n",
       "    <tr>\n",
       "      <th>580</th>\n",
       "      <td>107 Otonabee Ave, Toronto, Ontario</td>\n",
       "      <td>3288000</td>\n",
       "      <td>4 BedsBds</td>\n",
       "      <td>5 BathsBa</td>\n",
       "      <td>5000</td>\n",
       "    </tr>\n",
       "    <tr>\n",
       "      <th>234</th>\n",
       "      <td>252 Newton Dr, Toronto, Ontario M2M2P4</td>\n",
       "      <td>3180000</td>\n",
       "      <td>4 BedsBds</td>\n",
       "      <td>7 BathsBa</td>\n",
       "      <td>5000</td>\n",
       "    </tr>\n",
       "  </tbody>\n",
       "</table>\n",
       "</div>"
      ],
      "text/plain": [
       "                                            Address    Price       Beds  \\\n",
       "352         652 Queen St W, Toronto, Ontario M6J1E5  4825000        NaN   \n",
       "660  176 Haddington Avenue, Toronto, Ontario M5M2P8  4488888  5 BedsBds   \n",
       "415      388 Yonge Street, Toronto, Ontario M5B 1L2  3399999  2 BedsBds   \n",
       "580              107 Otonabee Ave, Toronto, Ontario  3288000  4 BedsBds   \n",
       "234          252 Newton Dr, Toronto, Ontario M2M2P4  3180000  4 BedsBds   \n",
       "\n",
       "         Baths  Space  \n",
       "352        NaN   4645  \n",
       "660  4 BathsBa   4169  \n",
       "415  2 BathsBa    900  \n",
       "580  5 BathsBa   5000  \n",
       "234  7 BathsBa   5000  "
      ]
     },
     "execution_count": 31,
     "metadata": {},
     "output_type": "execute_result"
    }
   ],
   "source": [
    "toronto_house_present.sort_values([\"Price\"], ascending=False).head()"
   ]
  },
  {
   "cell_type": "code",
   "execution_count": 32,
   "metadata": {
    "scrolled": true
   },
   "outputs": [
    {
     "data": {
      "text/html": [
       "<div>\n",
       "<style scoped>\n",
       "    .dataframe tbody tr th:only-of-type {\n",
       "        vertical-align: middle;\n",
       "    }\n",
       "\n",
       "    .dataframe tbody tr th {\n",
       "        vertical-align: top;\n",
       "    }\n",
       "\n",
       "    .dataframe thead th {\n",
       "        text-align: right;\n",
       "    }\n",
       "</style>\n",
       "<table border=\"1\" class=\"dataframe\">\n",
       "  <thead>\n",
       "    <tr style=\"text-align: right;\">\n",
       "      <th></th>\n",
       "      <th>Address</th>\n",
       "      <th>Price</th>\n",
       "      <th>Beds</th>\n",
       "      <th>Baths</th>\n",
       "      <th>Space</th>\n",
       "    </tr>\n",
       "  </thead>\n",
       "  <tbody>\n",
       "    <tr>\n",
       "      <th>234</th>\n",
       "      <td>252 Newton Dr, Toronto, Ontario M2M2P4</td>\n",
       "      <td>3180000</td>\n",
       "      <td>4 BedsBds</td>\n",
       "      <td>7 BathsBa</td>\n",
       "      <td>5000</td>\n",
       "    </tr>\n",
       "    <tr>\n",
       "      <th>580</th>\n",
       "      <td>107 Otonabee Ave, Toronto, Ontario</td>\n",
       "      <td>3288000</td>\n",
       "      <td>4 BedsBds</td>\n",
       "      <td>5 BathsBa</td>\n",
       "      <td>5000</td>\n",
       "    </tr>\n",
       "    <tr>\n",
       "      <th>352</th>\n",
       "      <td>652 Queen St W, Toronto, Ontario M6J1E5</td>\n",
       "      <td>4825000</td>\n",
       "      <td>NaN</td>\n",
       "      <td>NaN</td>\n",
       "      <td>4645</td>\n",
       "    </tr>\n",
       "    <tr>\n",
       "      <th>660</th>\n",
       "      <td>176 Haddington Avenue, Toronto, Ontario M5M2P8</td>\n",
       "      <td>4488888</td>\n",
       "      <td>5 BedsBds</td>\n",
       "      <td>4 BathsBa</td>\n",
       "      <td>4169</td>\n",
       "    </tr>\n",
       "    <tr>\n",
       "      <th>274</th>\n",
       "      <td>23 ABBS ST, Toronto, Ontario M6K1M5</td>\n",
       "      <td>1999900</td>\n",
       "      <td>NaN</td>\n",
       "      <td>4 BathsBa</td>\n",
       "      <td>3321</td>\n",
       "    </tr>\n",
       "  </tbody>\n",
       "</table>\n",
       "</div>"
      ],
      "text/plain": [
       "                                            Address    Price       Beds  \\\n",
       "234          252 Newton Dr, Toronto, Ontario M2M2P4  3180000  4 BedsBds   \n",
       "580              107 Otonabee Ave, Toronto, Ontario  3288000  4 BedsBds   \n",
       "352         652 Queen St W, Toronto, Ontario M6J1E5  4825000        NaN   \n",
       "660  176 Haddington Avenue, Toronto, Ontario M5M2P8  4488888  5 BedsBds   \n",
       "274             23 ABBS ST, Toronto, Ontario M6K1M5  1999900        NaN   \n",
       "\n",
       "         Baths  Space  \n",
       "234  7 BathsBa   5000  \n",
       "580  5 BathsBa   5000  \n",
       "352        NaN   4645  \n",
       "660  4 BathsBa   4169  \n",
       "274  4 BathsBa   3321  "
      ]
     },
     "execution_count": 32,
     "metadata": {},
     "output_type": "execute_result"
    }
   ],
   "source": [
    "toronto_house_present.sort_values([\"Space\"], ascending=False).head()"
   ]
  },
  {
   "cell_type": "code",
   "execution_count": 33,
   "metadata": {},
   "outputs": [
    {
     "data": {
      "text/html": [
       "<div>\n",
       "<style scoped>\n",
       "    .dataframe tbody tr th:only-of-type {\n",
       "        vertical-align: middle;\n",
       "    }\n",
       "\n",
       "    .dataframe tbody tr th {\n",
       "        vertical-align: top;\n",
       "    }\n",
       "\n",
       "    .dataframe thead th {\n",
       "        text-align: right;\n",
       "    }\n",
       "</style>\n",
       "<table border=\"1\" class=\"dataframe\">\n",
       "  <thead>\n",
       "    <tr style=\"text-align: right;\">\n",
       "      <th></th>\n",
       "      <th>Address</th>\n",
       "      <th>Price</th>\n",
       "      <th>Beds</th>\n",
       "      <th>Baths</th>\n",
       "      <th>Space</th>\n",
       "    </tr>\n",
       "  </thead>\n",
       "  <tbody>\n",
       "    <tr>\n",
       "      <th>303</th>\n",
       "      <td>4 &amp; 6 ORIOLE GDNS, Toronto, Ontario M4V1V7</td>\n",
       "      <td>6790000</td>\n",
       "      <td>NaN</td>\n",
       "      <td>NaN</td>\n",
       "      <td>7300</td>\n",
       "    </tr>\n",
       "    <tr>\n",
       "      <th>684</th>\n",
       "      <td>107 Otonabee Ave, Toronto, Ontario</td>\n",
       "      <td>3288000</td>\n",
       "      <td>4 BedsBds</td>\n",
       "      <td>5 BathsBa</td>\n",
       "      <td>5000</td>\n",
       "    </tr>\n",
       "    <tr>\n",
       "      <th>558</th>\n",
       "      <td>252 Newton Dr, Toronto, Ontario M2M2P4</td>\n",
       "      <td>3180000</td>\n",
       "      <td>4 BedsBds</td>\n",
       "      <td>7 BathsBa</td>\n",
       "      <td>5000</td>\n",
       "    </tr>\n",
       "    <tr>\n",
       "      <th>623</th>\n",
       "      <td>652 Queen St W, Toronto, Ontario M6J1E5</td>\n",
       "      <td>4825000</td>\n",
       "      <td>NaN</td>\n",
       "      <td>NaN</td>\n",
       "      <td>4645</td>\n",
       "    </tr>\n",
       "    <tr>\n",
       "      <th>544</th>\n",
       "      <td>15 Mallow Rd, Toronto, Ontario M3B 1G2</td>\n",
       "      <td>1450000</td>\n",
       "      <td>3 BedsBds</td>\n",
       "      <td>3 BathsBa</td>\n",
       "      <td>3501</td>\n",
       "    </tr>\n",
       "  </tbody>\n",
       "</table>\n",
       "</div>"
      ],
      "text/plain": [
       "                                        Address    Price       Beds  \\\n",
       "303  4 & 6 ORIOLE GDNS, Toronto, Ontario M4V1V7  6790000        NaN   \n",
       "684          107 Otonabee Ave, Toronto, Ontario  3288000  4 BedsBds   \n",
       "558      252 Newton Dr, Toronto, Ontario M2M2P4  3180000  4 BedsBds   \n",
       "623     652 Queen St W, Toronto, Ontario M6J1E5  4825000        NaN   \n",
       "544      15 Mallow Rd, Toronto, Ontario M3B 1G2  1450000  3 BedsBds   \n",
       "\n",
       "         Baths  Space  \n",
       "303        NaN   7300  \n",
       "684  5 BathsBa   5000  \n",
       "558  7 BathsBa   5000  \n",
       "623        NaN   4645  \n",
       "544  3 BathsBa   3501  "
      ]
     },
     "execution_count": 33,
     "metadata": {},
     "output_type": "execute_result"
    }
   ],
   "source": [
    "# drop listing with abnormally large square footage from house listings\n",
    "toronto_house_past = toronto_house_past.drop(index=716)\n",
    "toronto_house_past.sort_values([\"Space\"], ascending=False).head()"
   ]
  },
  {
   "cell_type": "code",
   "execution_count": 34,
   "metadata": {},
   "outputs": [
    {
     "name": "stdout",
     "output_type": "stream",
     "text": [
      "(29, 5)\n",
      "(38, 5)\n"
     ]
    }
   ],
   "source": [
    "# get house listings from past listings that are not in present listings\n",
    "df_past = (toronto_house_past[~toronto_house_past.Address.isin(toronto_house_present.Address)])\n",
    "print(df_past.shape)\n",
    "# get house listings from present listings that are not in past listings\n",
    "df_present = (toronto_house_present[~toronto_house_present.Address.isin(toronto_house_past.Address)])\n",
    "print(df_present.shape)"
   ]
  },
  {
   "cell_type": "code",
   "execution_count": 35,
   "metadata": {},
   "outputs": [
    {
     "data": {
      "text/plain": [
       "(29, 5)"
      ]
     },
     "execution_count": 35,
     "metadata": {},
     "output_type": "execute_result"
    }
   ],
   "source": [
    "# another method to determine houses present in past listings that are not in present listings\n",
    "cond = toronto_house_past['Address'].isin(toronto_house_present['Address'])\n",
    "toronto_house_past.drop(toronto_house_past[cond].index, inplace = True)\n",
    "toronto_house_past.shape"
   ]
  },
  {
   "cell_type": "code",
   "execution_count": 36,
   "metadata": {
    "scrolled": true
   },
   "outputs": [
    {
     "data": {
      "text/plain": [
       "(29, 5)"
      ]
     },
     "execution_count": 36,
     "metadata": {},
     "output_type": "execute_result"
    }
   ],
   "source": [
    "# a third method to determine houses present in past listings that are not in present listings\n",
    "df = pd.merge(toronto_house_past, toronto_house_present, indicator=True, how='outer').query('_merge==\"left_only\"').drop('_merge', axis=1)\n",
    "df.shape"
   ]
  },
  {
   "cell_type": "code",
   "execution_count": 37,
   "metadata": {},
   "outputs": [
    {
     "name": "stdout",
     "output_type": "stream",
     "text": [
      "$1020957.07\n",
      "1219.03 Sqft\n"
     ]
    }
   ],
   "source": [
    "# # initialize variable for square footage of past listings\n",
    "# df_past_price = df_past['Price']\n",
    "# # initialize variable for square footage of past listings\n",
    "# df_past_space = df_past['Space']\n",
    "# print average price of previous house listings\n",
    "print(\"$\" + str(round((sum(df_past['Price'])/len(df_past)), 2)))\n",
    "# print average square footage of previous house listings\n",
    "print(str(round((sum(df_past['Space'])/len(df_past)), 2)), \"Sqft\")"
   ]
  },
  {
   "cell_type": "code",
   "execution_count": 38,
   "metadata": {},
   "outputs": [
    {
     "name": "stdout",
     "output_type": "stream",
     "text": [
      "$943794.05\n",
      "1181.24 Sqft\n"
     ]
    }
   ],
   "source": [
    "# print average price of present house listings\n",
    "print(\"$\" + str(round((sum(df_present['Price'])/len(df_present)), 2)))\n",
    "# print average square footage of present house listings\n",
    "print(str(round((sum(df_present['Space'])/len(df_present)), 2)), \"Sqft\")"
   ]
  },
  {
   "cell_type": "markdown",
   "metadata": {},
   "source": [
    "We see that the average price of houses and average square footage of house listing has gone down over the weekend and further analysis would determine if this trend continues into the year."
   ]
  }
 ],
 "metadata": {
  "colab": {
   "collapsed_sections": [],
   "name": "MGT412_Lecture_8_Empirical_Asset_Pricing.ipynb",
   "provenance": [],
   "version": "0.3.2"
  },
  "kernelspec": {
   "display_name": "Python 3",
   "language": "python",
   "name": "python3"
  },
  "language_info": {
   "codemirror_mode": {
    "name": "ipython",
    "version": 3
   },
   "file_extension": ".py",
   "mimetype": "text/x-python",
   "name": "python",
   "nbconvert_exporter": "python",
   "pygments_lexer": "ipython3",
   "version": "3.6.8"
  }
 },
 "nbformat": 4,
 "nbformat_minor": 2
}
